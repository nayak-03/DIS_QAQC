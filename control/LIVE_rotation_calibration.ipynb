{
 "cells": [
  {
   "cell_type": "code",
   "execution_count": 1,
   "id": "a6d79a7f-fcd2-40b8-856d-707770fcea61",
   "metadata": {},
   "outputs": [
    {
     "name": "stderr",
     "output_type": "stream",
     "text": [
      "/home/nayak03/.local/lib/python3.10/site-packages/matplotlib/projections/__init__.py:63: UserWarning: Unable to import Axes3D. This may be due to multiple versions of Matplotlib being installed (e.g. as a system package and as a pip package). As a result, the 3D projection is not available.\n",
      "  warnings.warn(\"Unable to import Axes3D. This may be due to multiple versions of \"\n"
     ]
    }
   ],
   "source": [
    "import numpy as np \n",
    "from scipy import optimize \n",
    "import matplotlib.pyplot as plt\n",
    "import matplotlib\n",
    "import PyQt5\n",
    "import PySpin"
   ]
  },
  {
   "cell_type": "code",
   "execution_count": 2,
   "id": "3b7efa64-7a51-4049-bc5a-db92c5dfe998",
   "metadata": {},
   "outputs": [],
   "source": [
    "%matplotlib qt"
   ]
  },
  {
   "cell_type": "code",
   "execution_count": 3,
   "id": "97e1af52-f63d-406d-a16d-15f91ef0cdbd",
   "metadata": {},
   "outputs": [],
   "source": [
    "IMAGE_SHAPE = (2840, 2840)\n",
    "image = np.fromfile('/home/nayak03/DIS_QAQC/birfurcation_test3_exp16_gain0/birfurcation_test3_exp16_gain0_0999.raw', dtype=np.uint16, sep=\"\").reshape(IMAGE_SHAPE)\n",
    "plt.imshow(image, cmap=\"RdBu\")\n",
    "plt.pause(2)\n",
    "plt.close()"
   ]
  },
  {
   "cell_type": "code",
   "execution_count": 4,
   "id": "3e4233c7-2f59-405b-9304-8e95b7c41a4b",
   "metadata": {},
   "outputs": [],
   "source": [
    "def deg3_poly(x, a, b, c, d):\n",
    "    return a*(x**3) + b*(x ** 2) + c*(x) + d"
   ]
  },
  {
   "cell_type": "code",
   "execution_count": 5,
   "id": "d0d3b42c-7812-4ed6-8658-58af2cca7b99",
   "metadata": {},
   "outputs": [],
   "source": [
    "def calibration_plot(img): \n",
    "    x_proj = np.mean(img, axis=0)\n",
    "\n",
    "    fig, axes = plt.subplots(nrows=1, ncols=2, figsize=(10, 5))\n",
    "    plt.sca(axes[0])\n",
    "    plt.title(\"Image\")\n",
    "    plt.imshow(img, cmap='RdBu')\n",
    "    plt.colorbar()\n",
    "\n",
    "    plt.sca(axes[1])\n",
    "    plt.xlabel(\"pixel coordinate (x-axis)\")\n",
    "    plt.ylabel(\"mean value over y-axis\")\n",
    "    plt.plot(np.arange(2840), x_proj, '.')\n",
    "    plt.axhline(y=np.mean(x_proj), color='red', label='mean')\n",
    "    plt.axhline(y=np.mean(x_proj) + (np.mean(x_proj)*0.005), color='orange', label='mean+-0.5%', linestyle='dashed')\n",
    "    plt.axhline(y=np.mean(x_proj) - (np.mean(x_proj)*0.005), color='orange', linestyle='dashed')\n",
    "\n",
    "    popt, pcov = optimize.curve_fit(deg3_poly, np.arange(2840), x_proj)\n",
    "    x = np.arange(2840)\n",
    "    a, b, c, d = popt \n",
    "    plt.plot(x, deg3_poly(x, *popt), color='purple', label= f\"Parameters:\\n$a = {a:.2e}$, $b = {b:.2e}$ \\n $c = {c:.2e}$, $d = {d:.0f}$\")\n",
    "    plt.title(\"Calibration Plot\")\n",
    "    \n",
    "    plt.legend()"
   ]
  },
  {
   "cell_type": "code",
   "execution_count": 6,
   "id": "e2856983-975a-468c-8a68-f15c1d1cbda4",
   "metadata": {},
   "outputs": [],
   "source": [
    "calibration_plot(image)\n",
    "plt.show()\n",
    "plt.pause(10)\n",
    "plt.close()"
   ]
  },
  {
   "cell_type": "code",
   "execution_count": 7,
   "id": "040c5dfe-50f9-4eba-a5a1-56af35e67000",
   "metadata": {},
   "outputs": [],
   "source": [
    "def set_buffer_handling_mode(cam):\n",
    "    try:\n",
    "        result = True\n",
    "        s_nodemap = cam.GetTLStreamNodeMap()\n",
    "    \n",
    "        # Set the Buffer Handling Mode to Newest Only for LIVE capture\n",
    "    \n",
    "        node_stream_buffer_handling_mode = PySpin.CEnumerationPtr(s_nodemap.GetNode('StreamBufferHandlingMode'))\n",
    "        if not PySpin.IsReadable(node_stream_buffer_handling_mode) or not PySpin.IsWritable(node_stream_buffer_handling_mode):\n",
    "            print('Unable to access Stream Buffer Handling (node retrieval). Non-fatal error...')\n",
    "            return False\n",
    "        node_stream_buffer_handling_mode_newest_only = node_stream_buffer_handling_mode.GetEntryByName('NewestOnly')\n",
    "        if not PySpin.IsReadable(node_stream_buffer_handling_mode_newest_only):\n",
    "            print('Unable to access Stream Buffer Handling (enum entry retrieval). Non-fatal error...')\n",
    "            return False\n",
    "        \n",
    "        stream_buffer_handling_mode_newest_only = node_stream_buffer_handling_mode_newest_only.GetValue()\n",
    "        \n",
    "        # Set integer value from entry node as new value of enumeration node\n",
    "        node_stream_buffer_handling_mode.SetIntValue(stream_buffer_handling_mode_newest_only)\n",
    "        \n",
    "        print('Set Stream Buffer Handling Mode to Newest Only...')\n",
    "    \n",
    "    except PySpin.SpinnakerException as ex:\n",
    "        print('Error: %s' % ex)\n",
    "        result = False\n",
    "    \n",
    "    return result"
   ]
  },
  {
   "cell_type": "code",
   "execution_count": 8,
   "id": "afd23615-7fa9-4ef7-be9d-cbaad14f9d1c",
   "metadata": {},
   "outputs": [],
   "source": [
    "def main(): \n",
    "    global system\n",
    "    system = PySpin.System.GetInstance()\n",
    "\n",
    "    global cam_list\n",
    "    cam_list = system.GetCameras()\n",
    "    num_cameras = cam_list.GetSize()\n",
    "    global cam\n",
    "    if num_cameras > 1:\n",
    "        print(\"Warning! More than one camera was found!\")\n",
    "\n",
    "    cam = cam_list.GetByIndex(0)\n",
    "    cam.Init()\n",
    "    print(f\"The rest of the script will be run with camera of Index 0 and DeviceID {cam.DeviceID.GetValue()}.\")\n",
    "\n",
    "    set_buffer_handling_mode(cam)\n",
    "\n",
    "    cam.BeginAcquisition()\n",
    "\n",
    "    i = 0\n",
    "\n",
    "    while(i < 20): \n",
    "\n",
    "        print(f\"Acquiring image {i+1}...\")\n",
    "        img = cam.GetNextImage()\n",
    "\n",
    "        if img.IsIncomplete():\n",
    "            print(f\"Image {i+1} is incomplete! Status: {img.GetImageStatus()}\")\n",
    "\n",
    "        img_array = img.GetNDArray()  \n",
    "        calibration_plot(img_array)\n",
    "        plt.show()\n",
    "        plt.pause(2)\n",
    "        plt.close()\n",
    "\n",
    "        img.Release()\n",
    "\n",
    "        i += 1\n",
    "    cam.EndAcquisition() "
   ]
  },
  {
   "cell_type": "code",
   "execution_count": 9,
   "id": "ffa059d1-4ea4-4aac-bc10-a08160258633",
   "metadata": {
    "scrolled": true
   },
   "outputs": [
    {
     "name": "stdout",
     "output_type": "stream",
     "text": [
      "The rest of the script will be run with camera of Index 0 and DeviceID 23431900.\n",
      "Set Stream Buffer Handling Mode to Newest Only...\n",
      "Acquiring image 1...\n",
      "Acquiring image 2...\n",
      "Acquiring image 3...\n",
      "Acquiring image 4...\n",
      "Acquiring image 5...\n",
      "Acquiring image 6...\n",
      "Acquiring image 7...\n",
      "Acquiring image 8...\n",
      "Acquiring image 9...\n",
      "Acquiring image 10...\n",
      "Acquiring image 11...\n",
      "Acquiring image 12...\n",
      "Acquiring image 13...\n",
      "Acquiring image 14...\n",
      "Acquiring image 15...\n",
      "Acquiring image 16...\n",
      "Acquiring image 17...\n",
      "Acquiring image 18...\n",
      "Acquiring image 19...\n",
      "Acquiring image 20...\n"
     ]
    },
    {
     "ename": "NameError",
     "evalue": "name 'cam' is not defined",
     "output_type": "error",
     "traceback": [
      "\u001b[0;31m---------------------------------------------------------------------------\u001b[0m",
      "\u001b[0;31mNameError\u001b[0m                                 Traceback (most recent call last)",
      "\u001b[0;32m/tmp/ipykernel_241016/2799915078.py\u001b[0m in \u001b[0;36m<module>\u001b[0;34m\u001b[0m\n\u001b[1;32m      1\u001b[0m \u001b[0;32mtry\u001b[0m\u001b[0;34m:\u001b[0m\u001b[0;34m\u001b[0m\u001b[0;34m\u001b[0m\u001b[0m\n\u001b[0;32m----> 2\u001b[0;31m     \u001b[0mcam\u001b[0m\u001b[0;34m.\u001b[0m\u001b[0mEndAcquisition\u001b[0m\u001b[0;34m(\u001b[0m\u001b[0;34m)\u001b[0m\u001b[0;34m\u001b[0m\u001b[0;34m\u001b[0m\u001b[0m\n\u001b[0m\u001b[1;32m      3\u001b[0m \u001b[0;32mfinally\u001b[0m\u001b[0;34m:\u001b[0m\u001b[0;34m\u001b[0m\u001b[0;34m\u001b[0m\u001b[0m\n\u001b[1;32m      4\u001b[0m     \u001b[0mmain\u001b[0m\u001b[0;34m(\u001b[0m\u001b[0;34m)\u001b[0m\u001b[0;34m\u001b[0m\u001b[0;34m\u001b[0m\u001b[0m\n",
      "\u001b[0;31mNameError\u001b[0m: name 'cam' is not defined"
     ]
    }
   ],
   "source": [
    "try: \n",
    "    cam.EndAcquisition() \n",
    "finally: \n",
    "    main()"
   ]
  },
  {
   "cell_type": "code",
   "execution_count": null,
   "id": "bb21dfe9-ee2e-47d4-b58c-9aeab64ca13a",
   "metadata": {},
   "outputs": [],
   "source": []
  }
 ],
 "metadata": {
  "kernelspec": {
   "display_name": "Python 3 (ipykernel)",
   "language": "python",
   "name": "python3"
  },
  "language_info": {
   "codemirror_mode": {
    "name": "ipython",
    "version": 3
   },
   "file_extension": ".py",
   "mimetype": "text/x-python",
   "name": "python",
   "nbconvert_exporter": "python",
   "pygments_lexer": "ipython3",
   "version": "3.10.12"
  }
 },
 "nbformat": 4,
 "nbformat_minor": 5
}
