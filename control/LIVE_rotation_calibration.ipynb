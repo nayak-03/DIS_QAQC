{
 "cells": [
  {
   "cell_type": "code",
   "execution_count": 64,
   "id": "a6d79a7f-fcd2-40b8-856d-707770fcea61",
   "metadata": {},
   "outputs": [],
   "source": [
    "import numpy as np \n",
    "import matplotlib.pyplot as plt\n",
    "import matplotlib\n",
    "import PyQt5\n",
    "import PySpin"
   ]
  },
  {
   "cell_type": "code",
   "execution_count": 46,
   "id": "3b7efa64-7a51-4049-bc5a-db92c5dfe998",
   "metadata": {},
   "outputs": [],
   "source": [
    "%matplotlib qt"
   ]
  },
  {
   "cell_type": "code",
   "execution_count": 47,
   "id": "d0d3b42c-7812-4ed6-8658-58af2cca7b99",
   "metadata": {},
   "outputs": [],
   "source": [
    "def calibration_plot(img): \n",
    "    x_proj = np.mean(img, axis=0)\n",
    "    plt.title(\"Calibration Plot\") \n",
    "\n",
    "    ## TODO: add a polynomial or chi-squared fit \n",
    "    \n",
    "    plt.xlabel(\"pixel coordinate (x-axis)\")\n",
    "    plt.ylabel(\"mean value over y-axis\")\n",
    "    plt.plot(np.arange(2840), x_proj, '.')\n",
    "    plt.axhline(y=np.mean(x_proj), color='red', label='mean')\n",
    "    plt.axhline(y=np.mean(x_proj) + (np.mean(x_proj)*0.005), color='orange', label='mean+-0.5%', linestyle='dashed')\n",
    "    plt.axhline(y=np.mean(x_proj) - (np.mean(x_proj)*0.005), color='orange', linestyle='dashed')\n",
    "    plt.legend()"
   ]
  },
  {
   "cell_type": "code",
   "execution_count": 56,
   "id": "97e1af52-f63d-406d-a16d-15f91ef0cdbd",
   "metadata": {},
   "outputs": [],
   "source": [
    "IMAGE_SHAPE = (2840, 2840)\n",
    "image = np.fromfile('/home/nayak03/DIS_QAQC/birfurcation_test3_exp16_gain0/birfurcation_test3_exp16_gain0_0999.raw', dtype=np.uint16, sep=\"\").reshape(IMAGE_SHAPE)\n",
    "plt.imshow(image, cmap=\"RdBu\")\n",
    "plt.pause(2)\n",
    "plt.close()"
   ]
  },
  {
   "cell_type": "code",
   "execution_count": 55,
   "id": "e2856983-975a-468c-8a68-f15c1d1cbda4",
   "metadata": {},
   "outputs": [],
   "source": [
    "calibration_plot(image)\n",
    "plt.show()\n",
    "plt.pause(2)\n",
    "plt.close()"
   ]
  },
  {
   "cell_type": "code",
   "execution_count": 114,
   "id": "afd23615-7fa9-4ef7-be9d-cbaad14f9d1c",
   "metadata": {},
   "outputs": [],
   "source": [
    "def main(): \n",
    "    global system\n",
    "    system = PySpin.System.GetInstance()\n",
    "\n",
    "    global cam_list\n",
    "    cam_list = system.GetCameras()\n",
    "    num_cameras = cam_list.GetSize()\n",
    "    global cam\n",
    "    if num_cameras > 1:\n",
    "        print(\"Warning! More than one camera was found!\")\n",
    "\n",
    "    cam = cam_list.GetByIndex(0)\n",
    "    cam.Init()\n",
    "    print(f\"The rest of the script will be run with camera of Index 0 and DeviceID {cam.DeviceID.GetValue()}.\")\n",
    "\n",
    "    cam.BeginAcquisition()\n",
    "\n",
    "    i = 0\n",
    "\n",
    "    while(i < 10): \n",
    "\n",
    "        print(f\"Acquiring image {i+1}...\")\n",
    "        img = cam.GetNextImage()\n",
    "\n",
    "        if img.IsIncomplete():\n",
    "            print(f\"Image {i+1} is incomplete! Status: {img.GetImageStatus()}\")\n",
    "\n",
    "        img_array = img.GetNDArray()\n",
    "        calibration_plot(img_array)\n",
    "        plt.show()\n",
    "        plt.pause(2)\n",
    "        plt.close()\n",
    "\n",
    "        img.Release()\n",
    "\n",
    "        i += 1\n",
    "    cam.EndAcquisition() "
   ]
  },
  {
   "cell_type": "code",
   "execution_count": 116,
   "id": "ffa059d1-4ea4-4aac-bc10-a08160258633",
   "metadata": {},
   "outputs": [
    {
     "name": "stdout",
     "output_type": "stream",
     "text": [
      "The rest of the script will be run with camera of Index 0 and DeviceID 23131455.\n",
      "Acquiring image 1...\n",
      "Acquiring image 2...\n",
      "Acquiring image 3...\n",
      "Acquiring image 4...\n",
      "Acquiring image 5...\n",
      "Acquiring image 6...\n",
      "Acquiring image 7...\n",
      "Acquiring image 8...\n",
      "Acquiring image 9...\n",
      "Acquiring image 10...\n"
     ]
    },
    {
     "ename": "SpinnakerException",
     "evalue": "Spinnaker: Camera is not started. [-1002]",
     "output_type": "error",
     "traceback": [
      "\u001b[0;31m---------------------------------------------------------------------------\u001b[0m",
      "\u001b[0;31mSpinnakerException\u001b[0m                        Traceback (most recent call last)",
      "\u001b[0;32m/tmp/ipykernel_177887/2799915078.py\u001b[0m in \u001b[0;36m<module>\u001b[0;34m\u001b[0m\n\u001b[1;32m      1\u001b[0m \u001b[0;32mtry\u001b[0m\u001b[0;34m:\u001b[0m\u001b[0;34m\u001b[0m\u001b[0;34m\u001b[0m\u001b[0m\n\u001b[0;32m----> 2\u001b[0;31m     \u001b[0mcam\u001b[0m\u001b[0;34m.\u001b[0m\u001b[0mEndAcquisition\u001b[0m\u001b[0;34m(\u001b[0m\u001b[0;34m)\u001b[0m\u001b[0;34m\u001b[0m\u001b[0;34m\u001b[0m\u001b[0m\n\u001b[0m\u001b[1;32m      3\u001b[0m \u001b[0;32mfinally\u001b[0m\u001b[0;34m:\u001b[0m\u001b[0;34m\u001b[0m\u001b[0;34m\u001b[0m\u001b[0m\n\u001b[1;32m      4\u001b[0m     \u001b[0mmain\u001b[0m\u001b[0;34m(\u001b[0m\u001b[0;34m)\u001b[0m\u001b[0;34m\u001b[0m\u001b[0;34m\u001b[0m\u001b[0m\n",
      "\u001b[0;32m~/.local/lib/python3.10/site-packages/PySpin.py\u001b[0m in \u001b[0;36mEndAcquisition\u001b[0;34m(self)\u001b[0m\n\u001b[1;32m  34235\u001b[0m         \u001b[0mSee\u001b[0m\u001b[0;34m:\u001b[0m  \u001b[0mImage\u001b[0m\u001b[0;34m:\u001b[0m\u001b[0;34m:\u001b[0m\u001b[0mRelease\u001b[0m\u001b[0;34m(\u001b[0m\u001b[0;34m)\u001b[0m\u001b[0;34m\u001b[0m\u001b[0;34m\u001b[0m\u001b[0m\n\u001b[1;32m  34236\u001b[0m         \"\"\"\n\u001b[0;32m> 34237\u001b[0;31m         \u001b[0;32mreturn\u001b[0m \u001b[0m_PySpin\u001b[0m\u001b[0;34m.\u001b[0m\u001b[0m_SWIG_CamPtr_EndAcquisition\u001b[0m\u001b[0;34m(\u001b[0m\u001b[0mself\u001b[0m\u001b[0;34m)\u001b[0m\u001b[0;34m\u001b[0m\u001b[0;34m\u001b[0m\u001b[0m\n\u001b[0m\u001b[1;32m  34238\u001b[0m \u001b[0;34m\u001b[0m\u001b[0m\n\u001b[1;32m  34239\u001b[0m     \u001b[0;32mdef\u001b[0m \u001b[0mGetBufferOwnership\u001b[0m\u001b[0;34m(\u001b[0m\u001b[0mself\u001b[0m\u001b[0;34m)\u001b[0m\u001b[0;34m:\u001b[0m\u001b[0;34m\u001b[0m\u001b[0;34m\u001b[0m\u001b[0m\n",
      "\u001b[0;31mSpinnakerException\u001b[0m: Spinnaker: Camera is not started. [-1002]"
     ]
    }
   ],
   "source": [
    "try: \n",
    "    cam.EndAcquisition() \n",
    "finally: \n",
    "    main()"
   ]
  },
  {
   "cell_type": "code",
   "execution_count": null,
   "id": "c9b37d1d-0885-42fd-bbb1-0381ce94f0e3",
   "metadata": {},
   "outputs": [],
   "source": []
  }
 ],
 "metadata": {
  "kernelspec": {
   "display_name": "Python 3 (ipykernel)",
   "language": "python",
   "name": "python3"
  },
  "language_info": {
   "codemirror_mode": {
    "name": "ipython",
    "version": 3
   },
   "file_extension": ".py",
   "mimetype": "text/x-python",
   "name": "python",
   "nbconvert_exporter": "python",
   "pygments_lexer": "ipython3",
   "version": "3.10.12"
  }
 },
 "nbformat": 4,
 "nbformat_minor": 5
}
